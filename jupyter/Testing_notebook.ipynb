{
 "cells": [
  {
   "cell_type": "code",
   "execution_count": 2,
   "metadata": {},
   "outputs": [
    {
     "name": "stdout",
     "output_type": "stream",
     "text": [
      "Printing tweet number 0 in lowercase:\n",
      "great lecture at the uva\n",
      "\n",
      "\n",
      "Printing tweet number 1 in lowercase:\n",
      "i hate you\n",
      "\n",
      "\n",
      "Printing tweet number 2 in lowercase:\n",
      "i want beer\n",
      "\n",
      "\n"
     ]
    }
   ],
   "source": [
    "i = 0\n",
    "alltweets = [\"Great lecture at the UvA\",\"I Hate you\",\"I want BEER\"]\n",
    "for tweet in alltweets:\n",
    "    print(\"Printing tweet number\",i, \"in lowercase:\")\n",
    "    print(tweet.lower())\n",
    "    print(\"\\n\")\n",
    "    i = i + 1\n"
   ]
  },
  {
   "cell_type": "code",
   "execution_count": 13,
   "metadata": {},
   "outputs": [
    {
     "name": "stdout",
     "output_type": "stream",
     "text": [
      "Sheila is 28 years old\n",
      "Anne is 23 years old\n",
      "John is 22 years old\n",
      "Bas is 25 years old\n",
      "Mark is 26 years old\n"
     ]
    }
   ],
   "source": [
    "people = {\"Sheila\": 28, \"Anne\": 23, \"John\": 22, \"Bas\": 25, \"Mark\": 26}\n",
    "for k, v in people.items():\n",
    "    print(k, \"is\", v, \"years old\")"
   ]
  },
  {
   "cell_type": "code",
   "execution_count": 12,
   "metadata": {},
   "outputs": [
    {
     "name": "stdout",
     "output_type": "stream",
     "text": [
      "Mark is 26 years old\n"
     ]
    }
   ],
   "source": []
  },
  {
   "cell_type": "code",
   "execution_count": 11,
   "metadata": {},
   "outputs": [],
   "source": [
    "mm = 1"
   ]
  },
  {
   "cell_type": "code",
   "execution_count": 7,
   "metadata": {},
   "outputs": [
    {
     "name": "stdout",
     "output_type": "stream",
     "text": [
      "1\n"
     ]
    }
   ],
   "source": [
    "print(mm)"
   ]
  },
  {
   "cell_type": "code",
   "execution_count": null,
   "metadata": {},
   "outputs": [],
   "source": []
  }
 ],
 "metadata": {
  "kernelspec": {
   "display_name": "Python 3",
   "language": "python",
   "name": "python3"
  },
  "language_info": {
   "codemirror_mode": {
    "name": "ipython",
    "version": 3
   },
   "file_extension": ".py",
   "mimetype": "text/x-python",
   "name": "python",
   "nbconvert_exporter": "python",
   "pygments_lexer": "ipython3",
   "version": "3.8.5"
  }
 },
 "nbformat": 4,
 "nbformat_minor": 4
}
