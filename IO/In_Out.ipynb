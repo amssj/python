{
 "cells": [
  {
   "cell_type": "markdown",
   "metadata": {},
   "source": [
    "##Import csv"
   ]
  },
  {
   "cell_type": "markdown",
   "metadata": {},
   "source": [
    "csv.reader() is a so-called generator, that is a structure that you can loop over (like a list), but can only do so once."
   ]
  },
  {
   "cell_type": "code",
   "execution_count": null,
   "metadata": {},
   "outputs": [],
   "source": [
    "import csv\n",
    "name=[]\n",
    "age=[]\n",
    "height=[]\n",
    "with open(’/home/damian/mensen.csv’, encoding=’utf-8’,mode=’r’,newline=’’) as csvfile:\n",
    "    reader = csv.reader(csvfile, delimiter=’,’)\n",
    "    for row in reader: \n",
    "        name.append(row[0]) \n",
    "        age.append(row[1]) \n",
    "        height.append(row[2])\n",
    "print(\"Done!\")"
   ]
  },
  {
   "cell_type": "markdown",
   "metadata": {},
   "source": [
    "##Save csv "
   ]
  },
  {
   "cell_type": "code",
   "execution_count": null,
   "metadata": {},
   "outputs": [],
   "source": [
    "output=zip(age,height,name)\n",
    "with open(\"test.csv\",mode=\"w\",encoding=\"utf-8\") as fo:\n",
    "    writer=csv.writer(fo) \n",
    "    writer.writerows(output)"
   ]
  },
  {
   "cell_type": "markdown",
   "metadata": {},
   "source": [
    "##Import Jason "
   ]
  },
  {
   "cell_type": "code",
   "execution_count": null,
   "metadata": {},
   "outputs": [],
   "source": [
    "{\"Sheila\": 28, \"Anne\": 23, \"John\": 22, \"Bas\": 25, \"Mark\": 26}\n",
    "import json\n",
    "with open(\" \", mode = 'r', encoding = utf-8) as fi:\n",
    "    mydict = json.load(fi)\n",
    "print(mydict)\n",
    "print(\"Sheila is\",mydict[\"Sheila\"])"
   ]
  },
  {
   "cell_type": "markdown",
   "metadata": {},
   "source": [
    "##Save Json "
   ]
  },
  {
   "cell_type": "code",
   "execution_count": null,
   "metadata": {},
   "outputs": [],
   "source": [
    "import json\n",
    "ages = {\"Sheila\": 28, \"Anne\": 23, \"John\": 22, \"Bas\": 25, \"Mark\": 26}\n",
    "with open(\" \", mode = \"w\", encoding = utf-8) as fo:\n",
    "    json.dump(fo)"
   ]
  },
  {
   "cell_type": "markdown",
   "metadata": {},
   "source": [
    "##Import url"
   ]
  },
  {
   "cell_type": "code",
   "execution_count": null,
   "metadata": {},
   "outputs": [],
   "source": [
    "from urllib.request import urlopen\n",
    "import json\n",
    "from pprint import pprint\n",
    "a = urlopen('https://www.googleapis.com/books/v1/volumes?q=inauthor:\"Niklas+Luhmann\"').read()\n",
    "data = json.loads(a.decode(\"utf-8\"))\n",
    "for boek in data[\"items\"]:\n",
    "  print(boek[\"volumeInfo\"][\"authors\"], \":\", boek[\"volumeInfo\"][\"title\"])"
   ]
  }
 ],
 "metadata": {
  "kernelspec": {
   "display_name": "Python 3",
   "language": "python",
   "name": "python3"
  },
  "language_info": {
   "codemirror_mode": {
    "name": "ipython",
    "version": 3
   },
   "file_extension": ".py",
   "mimetype": "text/x-python",
   "name": "python",
   "nbconvert_exporter": "python",
   "pygments_lexer": "ipython3",
   "version": "3.8.5"
  }
 },
 "nbformat": 4,
 "nbformat_minor": 4
}
