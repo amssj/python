{
 "cells": [
  {
   "cell_type": "markdown",
   "metadata": {},
   "source": [
    "## Import csv"
   ]
  },
  {
   "cell_type": "markdown",
   "metadata": {},
   "source": [
    "csv.reader() is a so-called generator, that is a structure that you can loop over (like a list), but can only do so once."
   ]
  },
  {
   "cell_type": "code",
   "execution_count": null,
   "metadata": {},
   "outputs": [],
   "source": [
    "import csv\n",
    "name=[]\n",
    "age=[]\n",
    "height=[]\n",
    "with open(’/home/damian/mensen.csv’, encoding=’utf-8’,mode=’r’,newline=’’) as csvfile:\n",
    "    reader = csv.reader(csvfile, delimiter=’,’)\n",
    "    for row in reader: \n",
    "        name.append(row[0]) \n",
    "        age.append(row[1]) \n",
    "        height.append(row[2])\n",
    "print(\"Done!\")"
   ]
  },
  {
   "cell_type": "markdown",
   "metadata": {},
   "source": [
    "## Save csv "
   ]
  },
  {
   "cell_type": "code",
   "execution_count": null,
   "metadata": {},
   "outputs": [],
   "source": [
    "output=zip(age,height,name)\n",
    "with open(\"test.csv\",mode=\"w\",encoding=\"utf-8\") as fo:\n",
    "    writer=csv.writer(fo) \n",
    "    writer.writerows(output)"
   ]
  },
  {
   "cell_type": "markdown",
   "metadata": {},
   "source": [
    "## Import Jason "
   ]
  },
  {
   "cell_type": "code",
   "execution_count": null,
   "metadata": {},
   "outputs": [],
   "source": [
    "{\"Sheila\": 28, \"Anne\": 23, \"John\": 22, \"Bas\": 25, \"Mark\": 26}\n",
    "import json\n",
    "with open(\" \", mode = 'r', encoding = utf-8) as fi:\n",
    "    mydict = json.load(fi)\n",
    "print(mydict)\n",
    "print(\"Sheila is\",mydict[\"Sheila\"])"
   ]
  },
  {
   "cell_type": "markdown",
   "metadata": {},
   "source": [
    "## Save Json "
   ]
  },
  {
   "cell_type": "code",
   "execution_count": null,
   "metadata": {},
   "outputs": [],
   "source": [
    "import json\n",
    "ages = {\"Sheila\": 28, \"Anne\": 23, \"John\": 22, \"Bas\": 25, \"Mark\": 26}\n",
    "with open(\" \", mode = \"w\", encoding = utf-8) as fo:\n",
    "    json.dump(fo)"
   ]
  },
  {
   "cell_type": "markdown",
   "metadata": {},
   "source": [
    "## Import url"
   ]
  },
  {
   "cell_type": "code",
   "execution_count": 1,
   "metadata": {
    "collapsed": true,
    "jupyter": {
     "outputs_hidden": true
    }
   },
   "outputs": [
    {
     "name": "stdout",
     "output_type": "stream",
     "text": [
      "['Niklas Luhmann'] : Social Systems\n",
      "['Niklas Luhmann'] : Theory of Society, Volume 1\n",
      "['Niklas Luhmann'] : Love\n",
      "['Niklas Luhmann'] : A Sociological Theory of Law\n",
      "['Niklas Luhmann', 'Professor Niklas Luhmann', 'Fatima Kastner'] : Law as a Social System\n",
      "['Niklas Luhmann'] : A Systems Theory of Religion\n",
      "['NIklas Luhmann'] : Organization and Decision\n",
      "['Niklas Luhmann'] : Communication and Social Order\n",
      "['Niklas Luhmann'] : Art as a Social System\n",
      "['Niklas Luhmann', 'William Rasch'] : Theories of Distinction\n"
     ]
    }
   ],
   "source": [
    "from urllib.request import urlopen\n",
    "import json\n",
    "from pprint import pprint\n",
    "a = urlopen('https://www.googleapis.com/books/v1/volumes?q=inauthor:\"Niklas+Luhmann\"').read()\n",
    "data = json.loads(a.decode(\"utf-8\"))\n",
    "for boek in data[\"items\"]:\n",
    "  print(boek[\"volumeInfo\"][\"authors\"], \":\", boek[\"volumeInfo\"][\"title\"])"
   ]
  },
  {
   "cell_type": "markdown",
   "metadata": {},
   "source": [
    "## 停用词案例"
   ]
  },
  {
   "cell_type": "code",
   "execution_count": 2,
   "metadata": {
    "collapsed": true,
    "jupyter": {
     "outputs_hidden": true
    }
   },
   "outputs": [
    {
     "ename": "FileNotFoundError",
     "evalue": "[Errno 2] No such file or directory: 'stopwords.txt'",
     "output_type": "error",
     "traceback": [
      "\u001b[0;31m---------------------------------------------------------------------------\u001b[0m",
      "\u001b[0;31mFileNotFoundError\u001b[0m                         Traceback (most recent call last)",
      "\u001b[0;32m<ipython-input-2-3f2b0bab1b98>\u001b[0m in \u001b[0;36m<module>\u001b[0;34m\u001b[0m\n\u001b[1;32m      1\u001b[0m \u001b[0mstopwords\u001b[0m \u001b[0;34m=\u001b[0m \u001b[0;34m[\u001b[0m\u001b[0;34m]\u001b[0m\u001b[0;34m\u001b[0m\u001b[0;34m\u001b[0m\u001b[0m\n\u001b[0;32m----> 2\u001b[0;31m \u001b[0;32mwith\u001b[0m \u001b[0mopen\u001b[0m\u001b[0;34m(\u001b[0m\u001b[0;34m'stopwords.txt'\u001b[0m\u001b[0;34m,\u001b[0m\u001b[0mmode\u001b[0m \u001b[0;34m=\u001b[0m \u001b[0;34m'r'\u001b[0m\u001b[0;34m,\u001b[0m \u001b[0mencoding\u001b[0m \u001b[0;34m=\u001b[0m\u001b[0;34m'utf-8'\u001b[0m\u001b[0;34m)\u001b[0m\u001b[0;32mas\u001b[0m \u001b[0mf\u001b[0m\u001b[0;34m:\u001b[0m\u001b[0;34m\u001b[0m\u001b[0;34m\u001b[0m\u001b[0m\n\u001b[0m\u001b[1;32m      3\u001b[0m     \u001b[0;32mfor\u001b[0m \u001b[0mline\u001b[0m \u001b[0;32min\u001b[0m \u001b[0mf\u001b[0m\u001b[0;34m:\u001b[0m\u001b[0;34m\u001b[0m\u001b[0;34m\u001b[0m\u001b[0m\n\u001b[1;32m      4\u001b[0m         \u001b[0mstopwords\u001b[0m\u001b[0;34m.\u001b[0m\u001b[0mappend\u001b[0m\u001b[0;34m(\u001b[0m\u001b[0mline\u001b[0m\u001b[0;34m.\u001b[0m\u001b[0mstrip\u001b[0m\u001b[0;34m(\u001b[0m\u001b[0;34m)\u001b[0m\u001b[0;34m)\u001b[0m\u001b[0;34m\u001b[0m\u001b[0;34m\u001b[0m\u001b[0m\n",
      "\u001b[0;31mFileNotFoundError\u001b[0m: [Errno 2] No such file or directory: 'stopwords.txt'"
     ]
    }
   ],
   "source": [
    "stopwords = []\n",
    "with open('stopwords.txt',mode = 'r', encoding ='utf-8')as f:\n",
    "    for line in f:\n",
    "        stopwords.append(line.strip())"
   ]
  },
  {
   "cell_type": "markdown",
   "metadata": {},
   "source": [
    "##modify the stopword list and save it to a new file"
   ]
  },
  {
   "cell_type": "code",
   "execution_count": 3,
   "metadata": {},
   "outputs": [],
   "source": [
    "stopwords.extend(['somenewsstopword','andanotherone'])\n",
    "with open('newstopwords.txt', mode='w', encoding ='utf-8') as f:\n",
    "    f.writelines(stopwords)"
   ]
  },
  {
   "cell_type": "markdown",
   "metadata": {},
   "source": [
    "##Instead of .writelines(which writes multiple lines at once, we can also .write() a single string to a file."
   ]
  },
  {
   "cell_type": "markdown",
   "metadata": {},
   "source": [
    "##We can use the same to read json files into a python dict or to store a python dict into a json file"
   ]
  },
  {
   "cell_type": "code",
   "execution_count": 6,
   "metadata": {},
   "outputs": [],
   "source": [
    "import json\n",
    "somedict = {'a':'somevalue','b': {'level2a':'anothervalue', 'level2b':{1:'x', 2: 'y'}},'c':[1,2,3,4]}\n",
    "with open('test.json',mode = 'w', encoding= 'utf-8') as f:\n",
    "    json.dump(somedict,f)\n",
    "with open('test.json', mode='r', encoding ='utf-8') as f:\n",
    "    mydict = json.load(f)"
   ]
  },
  {
   "cell_type": "code",
   "execution_count": null,
   "metadata": {},
   "outputs": [],
   "source": []
  }
 ],
 "metadata": {
  "kernelspec": {
   "display_name": "Python 3",
   "language": "python",
   "name": "python3"
  },
  "language_info": {
   "codemirror_mode": {
    "name": "ipython",
    "version": 3
   },
   "file_extension": ".py",
   "mimetype": "text/x-python",
   "name": "python",
   "nbconvert_exporter": "python",
   "pygments_lexer": "ipython3",
   "version": "3.8.5"
  }
 },
 "nbformat": 4,
 "nbformat_minor": 4
}
