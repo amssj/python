{
 "cells": [
  {
   "cell_type": "code",
   "execution_count": 1,
   "metadata": {},
   "outputs": [],
   "source": [
    "import re"
   ]
  },
  {
   "cell_type": "markdown",
   "metadata": {},
   "source": [
    "##regular expression in python uses raw string, which will interpret the string literally \n",
    "so if put an r in a string, the string is no longer handele in any special way e.g. print(r\"\\tTab\")"
   ]
  },
  {
   "cell_type": "code",
   "execution_count": null,
   "metadata": {},
   "outputs": [],
   "source": [
    "urls = '''\n",
    "https://www.google.com\n",
    "http://coreyms.com\n",
    "https://youtube.com\n",
    "https://www.nasa.gov\n",
    "'''\n",
    "\n",
    "\n",
    "pattern = re.compile(r\"https?://(www\\.)?(\\w+)(\\.\\w+)\")\n",
    "matches = pattern.finditer(urls) ##returns match objects with extra information and functionality\n",
    "for match in matches:\n",
    "    print(match)\n",
    "    ## the result shows the span (beginning and the end index of the match) and the match itself \n",
    "    print(match.group(2))## group0 is the entire match so that's just the entire URL"
   ]
  },
  {
   "cell_type": "markdown",
   "metadata": {},
   "source": [
    "## compile的主要method"
   ]
  },
  {
   "cell_type": "code",
   "execution_count": null,
   "metadata": {},
   "outputs": [],
   "source": [
    "subbed_urls = pattern.sub(r\"\\2\\3\",urls)\n",
    "##substitue the urls(string) with group2 and group3\n",
    "print(subbed_urls)"
   ]
  },
  {
   "cell_type": "code",
   "execution_count": null,
   "metadata": {},
   "outputs": [],
   "source": [
    "matches = pattern.findall() ##return the matches as a list of strings\n",
    "matches = pattern.match() ##return the regular expression matches at the beginning of the string \n",
    "matches = pattern.search()##return the regular expression matches within the entire string"
   ]
  },
  {
   "cell_type": "markdown",
   "metadata": {},
   "source": [
    "## flag"
   ]
  },
  {
   "cell_type": "code",
   "execution_count": null,
   "metadata": {},
   "outputs": [],
   "source": [
    "re.I(IGNORECAS) ##忽略大小写 \n",
    "re.M(MULTILINE)## ^matches at the beginning of the string and at the beginning of each line; $matchesat the end of the string and the end of each line"
   ]
  }
 ],
 "metadata": {
  "kernelspec": {
   "display_name": "Python 3",
   "language": "python",
   "name": "python3"
  },
  "language_info": {
   "codemirror_mode": {
    "name": "ipython",
    "version": 3
   },
   "file_extension": ".py",
   "mimetype": "text/x-python",
   "name": "python",
   "nbconvert_exporter": "python",
   "pygments_lexer": "ipython3",
   "version": "3.8.5"
  }
 },
 "nbformat": 4,
 "nbformat_minor": 4
}
