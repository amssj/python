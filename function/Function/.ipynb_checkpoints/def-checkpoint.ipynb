{
 "cells": [
  {
   "cell_type": "markdown",
   "metadata": {},
   "source": [
    "## def的用法"
   ]
  },
  {
   "cell_type": "code",
   "execution_count": 2,
   "metadata": {},
   "outputs": [
    {
     "name": "stdout",
     "output_type": "stream",
     "text": [
      "xiao xin\n"
     ]
    }
   ],
   "source": [
    "def name():\n",
    "    print('xiao xin')\n",
    "name()"
   ]
  },
  {
   "cell_type": "markdown",
   "metadata": {},
   "source": [
    "##note:小括号不能省略，括号内可以有内容，也可以没有，后面需要冒号。只需输入name（），就可以直接调用代码。"
   ]
  },
  {
   "cell_type": "code",
   "execution_count": 3,
   "metadata": {},
   "outputs": [
    {
     "name": "stdout",
     "output_type": "stream",
     "text": [
      "xiaobin  it is time to go home\n"
     ]
    }
   ],
   "source": [
    "def name(you):\n",
    "    print(you +'  it is time to go home')\n",
    "name('xiaobin')"
   ]
  },
  {
   "cell_type": "markdown",
   "metadata": {},
   "source": [
    "##note:you为形参，‘xiaobin’为实参，实参代替形参。"
   ]
  },
  {
   "cell_type": "code",
   "execution_count": 4,
   "metadata": {},
   "outputs": [
    {
     "name": "stdin",
     "output_type": "stream",
     "text": [
      "your name shujun\n"
     ]
    },
    {
     "name": "stdout",
     "output_type": "stream",
     "text": [
      "shujun  it is time to go home\n"
     ]
    }
   ],
   "source": [
    "def name(you):\n",
    "    print(you +'  it is time to go home')\n",
    "name(input('your nam'))"
   ]
  },
  {
   "cell_type": "markdown",
   "metadata": {},
   "source": [
    "note: 更高阶加入input互动"
   ]
  },
  {
   "cell_type": "code",
   "execution_count": 5,
   "metadata": {},
   "outputs": [
    {
     "name": "stdout",
     "output_type": "stream",
     "text": [
      "on the left isfather\n",
      "\n",
      "on the right ismother\n"
     ]
    }
   ],
   "source": [
    "def parents(left, right):\n",
    "    print('on the left is'+left)\n",
    "    print('\\non the right is'+right)\n",
    "parents('father','mother')"
   ]
  },
  {
   "cell_type": "markdown",
   "metadata": {},
   "source": [
    "note: 位置实参，要求实参的顺序与形参的顺序相同。"
   ]
  },
  {
   "cell_type": "code",
   "execution_count": 6,
   "metadata": {},
   "outputs": [
    {
     "name": "stdout",
     "output_type": "stream",
     "text": [
      "on the left isfather\n",
      "\n",
      "on the right ismother\n"
     ]
    }
   ],
   "source": [
    "def parents(left, right):\n",
    "    print('on the left is'+left)\n",
    "    print('\\non the right is'+right)\n",
    "parents(right='mother',left='father')"
   ]
  },
  {
   "cell_type": "markdown",
   "metadata": {},
   "source": [
    "note:关键字实参"
   ]
  },
  {
   "cell_type": "code",
   "execution_count": 7,
   "metadata": {},
   "outputs": [
    {
     "name": "stdout",
     "output_type": "stream",
     "text": [
      "on the left isfather\n",
      "\n",
      "on the right ismother\n"
     ]
    }
   ],
   "source": [
    "def parents(left,right ='mother'):\n",
    "    print('on the left is'+left)\n",
    "    print('\\non the right is'+right)\n",
    "parents('father')"
   ]
  },
  {
   "cell_type": "markdown",
   "metadata": {},
   "source": [
    "note: 关键字实参已知一个参数"
   ]
  },
  {
   "cell_type": "markdown",
   "metadata": {},
   "source": [
    "note: 结合if语法"
   ]
  },
  {
   "cell_type": "code",
   "execution_count": 10,
   "metadata": {},
   "outputs": [
    {
     "name": "stdin",
     "output_type": "stream",
     "text": [
      "what is your name shujun\n",
      "how much is ranked a\n"
     ]
    },
    {
     "name": "stdout",
     "output_type": "stream",
     "text": [
      "{'name': 'shujun', 'rank': 'a'}\n"
     ]
    }
   ],
   "source": [
    "def ranks(name, number):\n",
    "    ranks = {'name':name, \"rank\": number}\n",
    "    print(ranks)\n",
    "name = input(\"what is your name\")\n",
    "number = input(\"how much is ranked\")\n",
    "ranks(name, number)"
   ]
  },
  {
   "cell_type": "markdown",
   "metadata": {},
   "source": [
    "note: 结合词典"
   ]
  },
  {
   "cell_type": "code",
   "execution_count": null,
   "metadata": {
    "scrolled": true
   },
   "outputs": [],
   "source": [
    "while True:\n",
    "    def ranks(name, rank):\n",
    "        ranks={'name': name, \"rank\": number}\n",
    "        print(ranks)\n",
    "        \n",
    "name = input('what is your name?')\n",
    "if name == \"q\":\n",
    "    print('exist')\n",
    "    break\n",
    "number = input('how much is ranked')\n",
    "ranks(name, number)"
   ]
  },
  {
   "cell_type": "markdown",
   "metadata": {},
   "source": [
    "note: 结合if break"
   ]
  },
  {
   "cell_type": "code",
   "execution_count": 7,
   "metadata": {},
   "outputs": [
    {
     "name": "stdout",
     "output_type": "stream",
     "text": [
      "av\n",
      "bv\n",
      "cv\n"
     ]
    }
   ],
   "source": [
    "def user(names):\n",
    "    for name in names:\n",
    "        print(name)\n",
    "user_names = ['av', 'bv', 'cv']\n",
    "user(user_names)"
   ]
  },
  {
   "cell_type": "markdown",
   "metadata": {},
   "source": [
    "note: 结合list"
   ]
  },
  {
   "cell_type": "code",
   "execution_count": 10,
   "metadata": {
    "collapsed": true,
    "jupyter": {
     "outputs_hidden": true
    }
   },
   "outputs": [
    {
     "name": "stdout",
     "output_type": "stream",
     "text": [
      "liu\n",
      "<class 'tuple'>\n",
      "1\n",
      "2\n",
      "3\n"
     ]
    }
   ],
   "source": [
    "def name_number(name, *numbers):\n",
    "    print(name)\n",
    "    print(type(numbers))\n",
    "    for number in numbers:\n",
    "        print(number)\n",
    "name_number(\"liu\", 1,2,3)"
   ]
  },
  {
   "cell_type": "markdown",
   "metadata": {},
   "source": [
    "note:如果实际参数的个数不确定是否与虚参的个数一致，可适用*"
   ]
  }
 ],
 "metadata": {
  "kernelspec": {
   "display_name": "Python 3",
   "language": "python",
   "name": "python3"
  },
  "language_info": {
   "codemirror_mode": {
    "name": "ipython",
    "version": 3
   },
   "file_extension": ".py",
   "mimetype": "text/x-python",
   "name": "python",
   "nbconvert_exporter": "python",
   "pygments_lexer": "ipython3",
   "version": "3.8.5"
  }
 },
 "nbformat": 4,
 "nbformat_minor": 4
}
