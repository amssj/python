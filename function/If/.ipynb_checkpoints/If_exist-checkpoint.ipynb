{
 "cells": [
  {
   "cell_type": "code",
   "execution_count": null,
   "metadata": {},
   "outputs": [],
   "source": [
    "##if existed or not?"
   ]
  },
  {
   "cell_type": "code",
   "execution_count": null,
   "metadata": {},
   "outputs": [],
   "source": [
    "from urllib.request import urlopen\n",
    "import json\n",
    "a = urlopen('https://www.googleapis.com/books/v1/volumes?q=inauthor:\"Niklas+Luhmann\"').read()\n",
    "data = json.loads(a.decode(\"utf-8\"))\n",
    "for boek in data[\"items\"]:\n",
    "  if \"averageRating\" in boek[\"volumeInfo\"]: \n",
    "        print(\"Present, \", end =\" \") \n",
    "        print(\"value =\",boek[\"volumeInfo\"][\"averageRating\"]) \n",
    "  else: \n",
    "        print(\"Not present\") "
   ]
  },
  {
   "cell_type": "code",
   "execution_count": null,
   "metadata": {},
   "outputs": [],
   "source": []
  }
 ],
 "metadata": {
  "kernelspec": {
   "display_name": "Python 3",
   "language": "python",
   "name": "python3"
  },
  "language_info": {
   "codemirror_mode": {
    "name": "ipython",
    "version": 3
   },
   "file_extension": ".py",
   "mimetype": "text/x-python",
   "name": "python",
   "nbconvert_exporter": "python",
   "pygments_lexer": "ipython3",
   "version": "3.8.5"
  }
 },
 "nbformat": 4,
 "nbformat_minor": 4
}
