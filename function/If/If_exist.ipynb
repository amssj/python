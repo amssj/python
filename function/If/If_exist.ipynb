{
 "cells": [
  {
   "cell_type": "code",
   "execution_count": 12,
   "metadata": {},
   "outputs": [],
   "source": [
    "##if existed or not?"
   ]
  },
  {
   "cell_type": "code",
   "execution_count": 9,
   "metadata": {},
   "outputs": [
    {
     "name": "stdout",
     "output_type": "stream",
     "text": [
      "shunjun\n",
      "address not in person\n"
     ]
    }
   ],
   "source": [
    "person = {\"name\": \"shunjun\", \"age\": 18}\n",
    "print(person[\"name\"]) # exists\n",
    "print(person[\"address\"]) # not exists, error\n",
    "if \"address\" in person:\n",
    "    print(person[\"address\"])\n",
    "else\n",
    "    print(\"address not in person\")"
   ]
  }
 ],
 "metadata": {
  "kernelspec": {
   "display_name": "Python 3",
   "language": "python",
   "name": "python3"
  },
  "language_info": {
   "codemirror_mode": {
    "name": "ipython",
    "version": 3
   },
   "file_extension": ".py",
   "mimetype": "text/x-python",
   "name": "python",
   "nbconvert_exporter": "python",
   "pygments_lexer": "ipython3",
   "version": "3.8.5"
  }
 },
 "nbformat": 4,
 "nbformat_minor": 4
}
